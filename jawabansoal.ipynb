{
 "cells": [
  {
   "cell_type": "code",
   "execution_count": 1,
   "metadata": {},
   "outputs": [
    {
     "name": "stdout",
     "output_type": "stream",
     "text": [
      "kata1 = mata, kata2 = maat adalah anagram\n"
     ]
    }
   ],
   "source": [
    "#Nomor 1\n",
    "def anagram(kata1, kata2):\n",
    "    kata1 = kata1.lower()\n",
    "    kata2 = kata2.lower()\n",
    "\n",
    "    susunan1 = sorted(kata1)\n",
    "    susunan2 = sorted(kata2)\n",
    "\n",
    "    return susunan1 == susunan2\n",
    "\n",
    "def main():\n",
    "    kata1 = str(input(\"masukan kata1 =\"))\n",
    "    kata2 = str(input(\"masukan kata2 =\"))\n",
    "\n",
    "    if anagram(kata1, kata2):\n",
    "        print(f\"kata1 = {kata1}, kata2 = {kata2} adalah anagram\")\n",
    "    else:\n",
    "        print(f\"kata1 = {kata1}, kata2 = {kata2} bukan anagram\")\n",
    "\n",
    "\n",
    "if __name__ == \"__main__\":\n",
    "    main()"
   ]
  },
  {
   "cell_type": "code",
   "execution_count": 2,
   "metadata": {},
   "outputs": [
    {
     "name": "stdout",
     "output_type": "stream",
     "text": [
      "makan ada 2 buah\n"
     ]
    }
   ],
   "source": [
    "#Nomor 2\n",
    "def mencarikata(kalimat, kata):\n",
    "    kalimat = kalimat.lower()\n",
    "    kata = kata.lower()\n",
    "\n",
    "    kemunculan = 0\n",
    "    kata_di_kal = kalimat.split()\n",
    "    for kt in kata_di_kal:\n",
    "        if kt == kata:\n",
    "            kemunculan += 1\n",
    "        \n",
    "    return kemunculan\n",
    "\n",
    "def main():\n",
    "    kalimat = \"Saya mau makan. Makan itu wajib. Mau siang atau malam saya wajib makan\"\n",
    "    kata = \"makan\"\n",
    "\n",
    "    jumlah = mencarikata(kalimat, kata)\n",
    "    if jumlah > 0:\n",
    "        print(f\"{kata} ada {jumlah} buah\")\n",
    "    else:\n",
    "        print(f\"{kata} tidak ada dalam kalimat\")\n",
    "\n",
    "if __name__ == \"__main__\":\n",
    "    main()"
   ]
  },
  {
   "cell_type": "code",
   "execution_count": 3,
   "metadata": {},
   "outputs": [
    {
     "name": "stdout",
     "output_type": "stream",
     "text": [
      " 'saya      tidak suka     memancing' setelah dihapus spasi berlebih='saya tidak suka memancing' \n"
     ]
    }
   ],
   "source": [
    "#Nomor 3\n",
    "def hapus_spasi_lebih(kalimat):\n",
    "    kalimat_split = kalimat.split()\n",
    "    kalimat_normal = \" \".join(kalimat_split)\n",
    "    return kalimat_normal\n",
    "\n",
    "def main():\n",
    "    kalimat = str(input(\"masukan kalimat= \"))\n",
    "    hasil = hapus_spasi_lebih(kalimat)\n",
    "    \n",
    "    print(f\" '{kalimat}' setelah dihapus spasi berlebih='{hasil}' \")\n",
    "\n",
    "if __name__ == \"__main__\":\n",
    "    main()"
   ]
  },
  {
   "cell_type": "code",
   "execution_count": 4,
   "metadata": {},
   "outputs": [
    {
     "name": "stdout",
     "output_type": "stream",
     "text": [
      "dari kalimat = 'red snakes and a black frog in the pool', kata terpendek = 'a', terpanjang = 'snakes' \n"
     ]
    }
   ],
   "source": [
    "#Nomor 4\n",
    "def panjang_pendek(kalimat):\n",
    "    kata = kalimat.split()\n",
    "\n",
    "    kata_terpendek = kata[0]\n",
    "    kata_terpanjang = kata[0]\n",
    "\n",
    "    for i in kata:\n",
    "        if len(i) < len(kata_terpendek):\n",
    "            kata_terpendek = i\n",
    "        elif len(i) > len(kata_terpanjang):  \n",
    "            kata_terpanjang = i\n",
    "    \n",
    "    return kata_terpendek, kata_terpanjang\n",
    "\n",
    "def main():\n",
    "    kalimat = str(input('masukan suatu kalimat= '))\n",
    "    kata_terpendek, kata_terpanjang = panjang_pendek(kalimat)\n",
    "    print(f\"dari kalimat = '{kalimat}', kata terpendek = '{kata_terpendek}', terpanjang = '{kata_terpanjang}' \")\n",
    "\n",
    "\n",
    "if __name__==\"__main__\":\n",
    "    main()"
   ]
  }
 ],
 "metadata": {
  "kernelspec": {
   "display_name": "Python 3",
   "language": "python",
   "name": "python3"
  },
  "language_info": {
   "codemirror_mode": {
    "name": "ipython",
    "version": 3
   },
   "file_extension": ".py",
   "mimetype": "text/x-python",
   "name": "python",
   "nbconvert_exporter": "python",
   "pygments_lexer": "ipython3",
   "version": "3.12.0"
  }
 },
 "nbformat": 4,
 "nbformat_minor": 2
}
